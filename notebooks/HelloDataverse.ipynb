{
 "cells": [
  {
   "cell_type": "code",
   "execution_count": 8,
   "id": "3bed96c0-2d0f-4c60-b929-4427a514203f",
   "metadata": {
    "tags": []
   },
   "outputs": [],
   "source": [
    "from pyDataverse.api import Api \n",
    "from pyDataverse.api import NativeApi, SearchApi\n",
    "import pandas as pd\n",
    "from config import BASE_URL, API_TOKEN, SUBDATAVERSE"
   ]
  },
  {
   "cell_type": "code",
   "execution_count": 9,
   "id": "cb64a89d-27e6-4304-8450-1909f7e2b1b4",
   "metadata": {
    "tags": []
   },
   "outputs": [],
   "source": [
    "api = NativeApi(BASE_URL, API_TOKEN)\n",
    "searchapi = SearchApi(BASE_URL, API_TOKEN)"
   ]
  },
  {
   "cell_type": "markdown",
   "id": "68c25db3-1ae7-4a97-afbc-8f6d3211de1b",
   "metadata": {},
   "source": [
    "Connect to Dataverse data repository and list available data containers:"
   ]
  },
  {
   "cell_type": "code",
   "execution_count": 10,
   "id": "9b24b267-5132-4d8c-966d-62bd1ef84b89",
   "metadata": {
    "tags": []
   },
   "outputs": [
    {
     "data": {
      "text/plain": [
       "{'status': 'OK',\n",
       " 'data': [{'type': 'dataverse', 'id': 3, 'title': 'Eurovision 2023'},\n",
       "  {'type': 'dataverse', 'id': 247, 'title': 'Ontologies'},\n",
       "  {'type': 'dataverse', 'id': 251, 'title': 'Data'}]}"
      ]
     },
     "execution_count": 10,
     "metadata": {},
     "output_type": "execute_result"
    }
   ],
   "source": [
    "api.get_dataverse_contents(SUBDATAVERSE).json()"
   ]
  },
  {
   "cell_type": "markdown",
   "id": "ffd320b7-61fa-4b2e-9c74-d8da4efcfe12",
   "metadata": {},
   "source": [
    "Search metadata on select search query and get back a few first datasets:"
   ]
  },
  {
   "cell_type": "code",
   "execution_count": 11,
   "id": "520ac5c6-ff5d-4828-9ca1-1844c80dcacc",
   "metadata": {
    "tags": []
   },
   "outputs": [
    {
     "data": {
      "text/plain": [
       "[{'name': \"manceroto: Miguel@manceroto·May 9Bookmaker's odds: Who will win Eurovision 2023?...\",\n",
       "  'type': 'dataset',\n",
       "  'url': 'https://doi.org/10.5072/FK2/8DALUU',\n",
       "  'global_id': 'doi:10.5072/FK2/8DALUU',\n",
       "  'description': \"Miguel@manceroto·May 9Bookmaker's odds: Who will win Eurovision 2023? https://eurovisionworld.com/odds/eurovision #Eurovision #ESC2023 #UnitedByMusic @eurovisionwldeurovisionworld.comOdds Eurovision Song Contest 2023Who will win Eurovision Song Contest 2023? Bookmakers have predicted Sweden with best odds70\",\n",
       "  'published_at': '2023-05-10T11:28:13Z',\n",
       "  'publisher': 'Eurovision 2023',\n",
       "  'citationHtml': 'MuseIT, 2023, \"manceroto: Miguel@manceroto&middot;May 9Bookmaker\\'s odds: Who will win Eurovision 2023?...\", <a href=\"https://doi.org/10.5072/FK2/8DALUU\" target=\"_blank\">https://doi.org/10.5072/FK2/8DALUU</a>, Root, V1',\n",
       "  'identifier_of_dataverse': 'eurovision2023',\n",
       "  'name_of_dataverse': 'Eurovision 2023',\n",
       "  'citation': 'MuseIT, 2023, \"manceroto: Miguel@manceroto·May 9Bookmaker\\'s odds: Who will win Eurovision 2023?...\", https://doi.org/10.5072/FK2/8DALUU, Root, V1',\n",
       "  'storageIdentifier': 'local://10.5072/FK2/8DALUU',\n",
       "  'keywords': ['UnitedByMusic', 'Eurovision', 'ESC2023'],\n",
       "  'subjects': ['Arts and Humanities'],\n",
       "  'fileCount': 0,\n",
       "  'versionId': 189,\n",
       "  'versionState': 'RELEASED',\n",
       "  'majorVersion': 1,\n",
       "  'minorVersion': 0,\n",
       "  'createdAt': '2023-05-10T11:28:09Z',\n",
       "  'updatedAt': '2023-05-10T11:28:13Z',\n",
       "  'contacts': [{'name': 'MuseIT', 'affiliation': ''}],\n",
       "  'authors': ['MuseIT']},\n",
       " {'name': \"Tz4H1e_r1g4t: צחי הימני@Tz4H1e_r1g4t·13hBookmaker's odds: Who will win Eurovision 2023?...\",\n",
       "  'type': 'dataset',\n",
       "  'url': 'https://doi.org/10.5072/FK2/YPYGBF',\n",
       "  'global_id': 'doi:10.5072/FK2/YPYGBF',\n",
       "  'description': \"צחי הימני@Tz4H1e_r1g4t·13hBookmaker's odds: Who will win Eurovision 2023? https://eurovisionworld.com/odds/eurovision #Eurovision #ESC2023 #UnitedByMusic @eurovisionwldeurovisionworld.comOdds Eurovision Song Contest 2023Who will win Eurovision Song Contest 2023? Bookmakers have predicted Sweden with best odds261\",\n",
       "  'published_at': '2023-05-10T11:20:10Z',\n",
       "  'publisher': 'Eurovision 2023',\n",
       "  'citationHtml': 'MuseIT, 2023, \"Tz4H1e_r1g4t: צחי הימני@Tz4H1e_r1g4t&middot;13hBookmaker\\'s odds: Who will win Eurovision 2023?...\", <a href=\"https://doi.org/10.5072/FK2/YPYGBF\" target=\"_blank\">https://doi.org/10.5072/FK2/YPYGBF</a>, Root, V1',\n",
       "  'identifier_of_dataverse': 'eurovision2023',\n",
       "  'name_of_dataverse': 'Eurovision 2023',\n",
       "  'citation': 'MuseIT, 2023, \"Tz4H1e_r1g4t: צחי הימני@Tz4H1e_r1g4t·13hBookmaker\\'s odds: Who will win Eurovision 2023?...\", https://doi.org/10.5072/FK2/YPYGBF, Root, V1',\n",
       "  'storageIdentifier': 'local://10.5072/FK2/YPYGBF',\n",
       "  'keywords': ['UnitedByMusic', 'Eurovision', 'ESC2023'],\n",
       "  'subjects': ['Arts and Humanities'],\n",
       "  'fileCount': 0,\n",
       "  'versionId': 22,\n",
       "  'versionState': 'RELEASED',\n",
       "  'majorVersion': 1,\n",
       "  'minorVersion': 0,\n",
       "  'createdAt': '2023-05-10T11:20:06Z',\n",
       "  'updatedAt': '2023-05-10T11:20:10Z',\n",
       "  'contacts': [{'name': 'MuseIT', 'affiliation': ''}],\n",
       "  'authors': ['MuseIT']}]"
      ]
     },
     "execution_count": 11,
     "metadata": {},
     "output_type": "execute_result"
    }
   ],
   "source": [
    "testquery = 'Eurovision'\n",
    "datasets = searchapi.search(testquery).json()\n",
    "datasets['data']['items'][0:2]"
   ]
  },
  {
   "cell_type": "markdown",
   "id": "490cbc83-9491-41a6-aaa7-fe662d8828be",
   "metadata": {},
   "source": [
    "Select first dataset from the list and request its metadata:"
   ]
  },
  {
   "cell_type": "code",
   "execution_count": 12,
   "id": "ee7d37d1-547f-4d27-bf1e-82e3cc184d06",
   "metadata": {
    "tags": []
   },
   "outputs": [
    {
     "data": {
      "text/plain": [
       "{'status': 'OK',\n",
       " 'data': {'id': 194,\n",
       "  'identifier': 'FK2/8DALUU',\n",
       "  'persistentUrl': 'https://doi.org/10.5072/FK2/8DALUU',\n",
       "  'protocol': 'doi',\n",
       "  'authority': '10.5072',\n",
       "  'publisher': 'Root',\n",
       "  'publicationDate': '2023-05-10',\n",
       "  'storageIdentifier': 'local://10.5072/FK2/8DALUU',\n",
       "  'latestVersion': {'id': 189,\n",
       "   'datasetId': 194,\n",
       "   'datasetPersistentId': 'doi:10.5072/FK2/8DALUU',\n",
       "   'storageIdentifier': 'local://10.5072/FK2/8DALUU',\n",
       "   'versionNumber': 1,\n",
       "   'versionMinorNumber': 0,\n",
       "   'versionState': 'RELEASED',\n",
       "   'lastUpdateTime': '2023-05-10T11:28:13Z',\n",
       "   'releaseTime': '2023-05-10T11:28:13Z',\n",
       "   'createTime': '2023-05-10T11:28:09Z',\n",
       "   'restrictions': 'No restrictions',\n",
       "   'fileAccessRequest': True,\n",
       "   'metadataBlocks': {'citation': {'displayName': 'Citation Metadata',\n",
       "     'name': 'citation',\n",
       "     'fields': [{'typeName': 'title',\n",
       "       'multiple': False,\n",
       "       'typeClass': 'primitive',\n",
       "       'value': \"manceroto: Miguel@manceroto·May 9Bookmaker's odds: Who will win Eurovision 2023?...\"},\n",
       "      {'typeName': 'author',\n",
       "       'multiple': True,\n",
       "       'typeClass': 'compound',\n",
       "       'value': [{'authorName': {'typeName': 'authorName',\n",
       "          'multiple': False,\n",
       "          'typeClass': 'primitive',\n",
       "          'value': 'MuseIT'},\n",
       "         'authorAffiliation': {'typeName': 'authorAffiliation',\n",
       "          'multiple': False,\n",
       "          'typeClass': 'primitive',\n",
       "          'value': 'MuseIT'}}]},\n",
       "      {'typeName': 'datasetContact',\n",
       "       'multiple': True,\n",
       "       'typeClass': 'compound',\n",
       "       'value': [{'datasetContactName': {'typeName': 'datasetContactName',\n",
       "          'multiple': False,\n",
       "          'typeClass': 'primitive',\n",
       "          'value': 'MuseIT'},\n",
       "         'datasetContactEmail': {'typeName': 'datasetContactEmail',\n",
       "          'multiple': False,\n",
       "          'typeClass': 'primitive',\n",
       "          'value': 'finch@mailinator.com'}}]},\n",
       "      {'typeName': 'dsDescription',\n",
       "       'multiple': True,\n",
       "       'typeClass': 'compound',\n",
       "       'value': [{'dsDescriptionValue': {'typeName': 'dsDescriptionValue',\n",
       "          'multiple': False,\n",
       "          'typeClass': 'primitive',\n",
       "          'value': \"Miguel@manceroto·May 9Bookmaker's odds: Who will win Eurovision 2023?\\n\\nhttps://eurovisionworld.com/odds/eurovision\\n#Eurovision #ESC2023 #UnitedByMusic @eurovisionwldeurovisionworld.comOdds Eurovision Song Contest 2023Who will win Eurovision Song Contest 2023? Bookmakers have predicted Sweden with best odds70\"}}]},\n",
       "      {'typeName': 'subject',\n",
       "       'multiple': True,\n",
       "       'typeClass': 'controlledVocabulary',\n",
       "       'value': ['Arts and Humanities']},\n",
       "      {'typeName': 'keyword',\n",
       "       'multiple': True,\n",
       "       'typeClass': 'compound',\n",
       "       'value': [{'keywordValue': {'typeName': 'keywordValue',\n",
       "          'multiple': False,\n",
       "          'typeClass': 'primitive',\n",
       "          'value': 'UnitedByMusic'}},\n",
       "        {'keywordValue': {'typeName': 'keywordValue',\n",
       "          'multiple': False,\n",
       "          'typeClass': 'primitive',\n",
       "          'value': 'Eurovision'}},\n",
       "        {'keywordValue': {'typeName': 'keywordValue',\n",
       "          'multiple': False,\n",
       "          'typeClass': 'primitive',\n",
       "          'value': 'ESC2023'}}]},\n",
       "      {'typeName': 'publicationURL',\n",
       "       'multiple': False,\n",
       "       'typeClass': 'primitive',\n",
       "       'value': 'https://twitter.com/manceroto/status/1655783842450489356'}]}},\n",
       "   'files': []}}}"
      ]
     },
     "execution_count": 12,
     "metadata": {},
     "output_type": "execute_result"
    }
   ],
   "source": [
    "selectedID = datasets['data']['items'][0]['global_id']\n",
    "dataset = api.get_dataset(selectedID)\n",
    "data = dataset.json()\n",
    "data"
   ]
  },
  {
   "cell_type": "code",
   "execution_count": null,
   "id": "70372b2f-088d-4f2c-a8bf-74d878dc249d",
   "metadata": {},
   "outputs": [],
   "source": []
  }
 ],
 "metadata": {
  "kernelspec": {
   "display_name": "Python 3 (ipykernel)",
   "language": "python",
   "name": "python3"
  },
  "language_info": {
   "codemirror_mode": {
    "name": "ipython",
    "version": 3
   },
   "file_extension": ".py",
   "mimetype": "text/x-python",
   "name": "python",
   "nbconvert_exporter": "python",
   "pygments_lexer": "ipython3",
   "version": "3.10.9"
  }
 },
 "nbformat": 4,
 "nbformat_minor": 5
}
